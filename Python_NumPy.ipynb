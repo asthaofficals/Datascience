{
  "nbformat": 4,
  "nbformat_minor": 0,
  "metadata": {
    "colab": {
      "name": "Python NumPy ",
      "provenance": [],
      "collapsed_sections": [],
      "authorship_tag": "ABX9TyNPGFB4GxnE3Wvh8A2sRXTw",
      "include_colab_link": true
    },
    "kernelspec": {
      "name": "python3",
      "display_name": "Python 3"
    }
  },
  "cells": [
    {
      "cell_type": "markdown",
      "metadata": {
        "id": "view-in-github",
        "colab_type": "text"
      },
      "source": [
        "<a href=\"https://colab.research.google.com/github/asthaofficals/Datascience/blob/main/Python_NumPy.ipynb\" target=\"_parent\"><img src=\"https://colab.research.google.com/assets/colab-badge.svg\" alt=\"Open In Colab\"/></a>"
      ]
    },
    {
      "cell_type": "markdown",
      "metadata": {
        "id": "B79VfdLGGXyr"
      },
      "source": [
        "***What are NumPy Arrays?***\r\n",
        "\r\n",
        "NumPy is a Python package that stands for ‘Numerical Python’. It is the core library for scientific computing, which contains a powerful n-dimensional array object.\r\n",
        "\r\n",
        "\r\n",
        "*   NumPy uses much less memory to store data.\r\n",
        "*   NumPy arrays are faster and more compact than Python lists.\r\n",
        "\r\n",
        "***Where is NumPy used?***\r\n",
        "\r\n",
        "Python NumPy arrays provide tools for integrating C, C++, etc. It is also useful in linear algebra, random number capability etc. NumPy array can also be used as an efficient multi-dimensional container for generic data. \r\n",
        "\r\n",
        "***Python NumPy Array:***\r\n",
        "Numpy array is a powerful N-dimensional array object which is in the form of rows and columns. We can initialize NumPy arrays from nested Python lists and access it elements.\r\n",
        "\r\n",
        "\r\n",
        "\r\n",
        "\r\n",
        "\r\n"
      ]
    },
    {
      "cell_type": "code",
      "metadata": {
        "colab": {
          "base_uri": "https://localhost:8080/"
        },
        "id": "xBWeTVVCJdED",
        "outputId": "b0e645d4-5969-43a5-b3fe-2c4ee5fe0cc6"
      },
      "source": [
        "#installing numpy\r\n",
        "!pip install numpy"
      ],
      "execution_count": null,
      "outputs": [
        {
          "output_type": "stream",
          "text": [
            "Requirement already satisfied: numpy in /usr/local/lib/python3.6/dist-packages (1.19.5)\n"
          ],
          "name": "stdout"
        }
      ]
    },
    {
      "cell_type": "markdown",
      "metadata": {
        "id": "6fX_ZSEEKNDo"
      },
      "source": [
        "***Python NumPy Array v/s List***\r\n",
        "***Why NumPy is used in Python? ***\r\n",
        "\r\n",
        "We use python NumPy array instead of a list because of the below three reasons:\r\n",
        "\r\n",
        "1. Less Memory\r\n",
        "\r\n",
        "2. Fast\r\n",
        "\r\n",
        "3. Convenient\r\n",
        "\r\n",
        "The very first reason to choose python NumPy array is that it occupies less memory as compared to list. Then, it is pretty fast in terms of execution and at the same time, it is very convenient to work with NumPy.So these are the major advantages that Python NumPy array has over list. \r\n"
      ]
    },
    {
      "cell_type": "markdown",
      "metadata": {
        "id": "4SDUqz7wNZ12"
      },
      "source": [
        "***Python NumPy Operations***\r\n",
        "\r\n",
        "You can find the dimension of the array, whether it is a two-dimensional array or a single dimensional array. So, let us see this practically how we can find the dimensions. In the below code, with the help of ‘ndim’ function, I can find whether the array is of single dimension or multi dimension."
      ]
    },
    {
      "cell_type": "code",
      "metadata": {
        "colab": {
          "base_uri": "https://localhost:8080/"
        },
        "id": "WtYJmImNN4lv",
        "outputId": "b859c60d-f2a6-4a93-84ed-cbcbf65e1bea"
      },
      "source": [
        "import numpy as np\r\n",
        "a = np.array([(5,4,6),(1,5,8)])\r\n",
        "print(a.ndim)"
      ],
      "execution_count": null,
      "outputs": [
        {
          "output_type": "stream",
          "text": [
            "2\n"
          ],
          "name": "stdout"
        }
      ]
    },
    {
      "cell_type": "markdown",
      "metadata": {
        "id": "qa5BpyLCOIHD"
      },
      "source": [
        "***itemsize:***\r\n",
        "\r\n",
        "You can calculate the byte size of each element. In the below code, I have defined a single dimensional array and with the help of ‘itemsize’ function, we can find the size of each element."
      ]
    },
    {
      "cell_type": "code",
      "metadata": {
        "colab": {
          "base_uri": "https://localhost:8080/"
        },
        "id": "ay2fFnXeOfoL",
        "outputId": "c4a2d028-6f3b-421e-eb06-0a3f138fb46e"
      },
      "source": [
        "import numpy as np\r\n",
        "a = np.array([(3,4,5)])\r\n",
        "print(a.itemsize)"
      ],
      "execution_count": null,
      "outputs": [
        {
          "output_type": "stream",
          "text": [
            "8\n"
          ],
          "name": "stdout"
        }
      ]
    },
    {
      "cell_type": "markdown",
      "metadata": {
        "id": "LiffKMqoOtdK"
      },
      "source": [
        "***dtype:***\r\n",
        "\r\n",
        "You can find the data type of the elements that are stored in an array. So, if you want to know the data type of a particular element, you can use ‘dtype’ function which will print the datatype along with the size. In the below code, I have defined an array where I have used the same function."
      ]
    },
    {
      "cell_type": "code",
      "metadata": {
        "colab": {
          "base_uri": "https://localhost:8080/"
        },
        "id": "zrgBvomxPHoa",
        "outputId": "3d3e08b1-ab13-40e4-f699-cc2940f4dcc0"
      },
      "source": [
        "import numpy as np\r\n",
        "a = np.array([(2,3,4)])\r\n",
        "print(a.dtype)"
      ],
      "execution_count": null,
      "outputs": [
        {
          "output_type": "stream",
          "text": [
            "int64\n"
          ],
          "name": "stdout"
        }
      ]
    },
    {
      "cell_type": "markdown",
      "metadata": {
        "id": "sykpV46IPW3Z"
      },
      "source": [
        "As you can see, the data type of the array is integer 64 bits. Similarly, you can find the size and shape of the array using ‘size’ and ‘shape’ function respectively."
      ]
    },
    {
      "cell_type": "code",
      "metadata": {
        "colab": {
          "base_uri": "https://localhost:8080/"
        },
        "id": "00ud6FCuP5PV",
        "outputId": "641d66b5-ff69-4dee-eeff-c4b14d51c8d8"
      },
      "source": [
        "import numpy as np\r\n",
        "a = np.array([(2,3,4,5,6,7)])\r\n",
        "print(a.size)\r\n",
        "print(a.shape)"
      ],
      "execution_count": null,
      "outputs": [
        {
          "output_type": "stream",
          "text": [
            "6\n",
            "(1, 6)\n"
          ],
          "name": "stdout"
        }
      ]
    },
    {
      "cell_type": "markdown",
      "metadata": {
        "id": "OZbrzTLDQLzW"
      },
      "source": [
        "***Reshape:***\r\n",
        "\r\n",
        "Reshape is when you change the number of rows and columns which gives a new view to an object. Now, let us take an example to reshape the below array:"
      ]
    },
    {
      "cell_type": "code",
      "metadata": {
        "id": "YvtdBdWqQQ6o",
        "colab": {
          "base_uri": "https://localhost:8080/"
        },
        "outputId": "c6b07e3a-73f9-4943-f746-be6fdcdc4d5b"
      },
      "source": [
        "import numpy as np\r\n",
        "a = np.array([(11,12,10),(15,12,13)])\r\n",
        "print(a)\r\n",
        "a=a.reshape(3,2)\r\n",
        "print(a)"
      ],
      "execution_count": null,
      "outputs": [
        {
          "output_type": "stream",
          "text": [
            "[[11 12 10]\n",
            " [15 12 13]]\n",
            "[[11 12]\n",
            " [10 15]\n",
            " [12 13]]\n"
          ],
          "name": "stdout"
        }
      ]
    },
    {
      "cell_type": "markdown",
      "metadata": {
        "id": "PZzkRujSQm64"
      },
      "source": [
        "***slicing:***\r\n",
        "\r\n",
        "As you can see the ‘reshape’ function has showed its magic. Now, let’s take another operation i.e Slicing. Slicing is basically extracting particular set of elements from an array. This slicing operation is pretty much similar to the one which is there in the list as well. Consider the following example:"
      ]
    },
    {
      "cell_type": "code",
      "metadata": {
        "colab": {
          "base_uri": "https://localhost:8080/"
        },
        "id": "Z6ENSbJhQ14n",
        "outputId": "224b2110-0ef9-45cf-c8dd-7c15b093f650"
      },
      "source": [
        "import numpy as np\r\n",
        "a=np.array([(2,3,4,5),(2,4,8,6)])\r\n",
        "print(a[1,2])"
      ],
      "execution_count": null,
      "outputs": [
        {
          "output_type": "stream",
          "text": [
            "8\n"
          ],
          "name": "stdout"
        }
      ]
    },
    {
      "cell_type": "markdown",
      "metadata": {
        "id": "eTxNF5V2V5s0"
      },
      "source": [
        "Taking one step forward, let’s say we need the 2nd element from the zeroth and first index of the array. ***Let’s see how you can perform this operation:***"
      ]
    },
    {
      "cell_type": "code",
      "metadata": {
        "colab": {
          "base_uri": "https://localhost:8080/"
        },
        "id": "bV6XPQBff3Sb",
        "outputId": "51bdaf1a-9662-4c24-857c-0ee0521d320a"
      },
      "source": [
        "import numpy as np\r\n",
        "a=np.array([(1,2,3,4),(3,4,5,6)])\r\n",
        "print(a[0:,2])"
      ],
      "execution_count": null,
      "outputs": [
        {
          "output_type": "stream",
          "text": [
            "[3 5]\n"
          ],
          "name": "stdout"
        }
      ]
    },
    {
      "cell_type": "markdown",
      "metadata": {
        "id": "jHA-fb5y_7IE"
      },
      "source": [
        "***linspace ***\r\n",
        "\r\n",
        "This is another operation in python numpy which returns evenly spaced numbers over a specified interval. ***Consider the below example:***"
      ]
    },
    {
      "cell_type": "code",
      "metadata": {
        "colab": {
          "base_uri": "https://localhost:8080/"
        },
        "id": "Q33AQgEaAD1q",
        "outputId": "2610fbba-6bad-4843-c87e-6a53f16b2cee"
      },
      "source": [
        "import numpy as np\r\n",
        "a=np.linspace(1,3,10)\r\n",
        "print(a)"
      ],
      "execution_count": null,
      "outputs": [
        {
          "output_type": "stream",
          "text": [
            "[1.         1.22222222 1.44444444 1.66666667 1.88888889 2.11111111\n",
            " 2.33333333 2.55555556 2.77777778 3.        ]\n"
          ],
          "name": "stdout"
        }
      ]
    },
    {
      "cell_type": "markdown",
      "metadata": {
        "id": "6BNc1QTwAg57"
      },
      "source": [
        "***max/ min***\r\n",
        "\r\n",
        "Next, we have some more operations in numpy such as to find the minimum, maximum as well the sum of the numpy array. Let’s go ahead in python numpy tutorial and execute it practically."
      ]
    },
    {
      "cell_type": "code",
      "metadata": {
        "colab": {
          "base_uri": "https://localhost:8080/"
        },
        "id": "ogGEKlw-AqiK",
        "outputId": "52f965e1-d124-4070-e0d1-b8858fcededf"
      },
      "source": [
        "import numpy as np\r\n",
        " \r\n",
        "a= np.array([1,2,3])\r\n",
        "print(a.min())\r\n",
        "print(a.max())\r\n",
        "print(a.sum())"
      ],
      "execution_count": null,
      "outputs": [
        {
          "output_type": "stream",
          "text": [
            "1\n",
            "3\n",
            "6\n"
          ],
          "name": "stdout"
        }
      ]
    },
    {
      "cell_type": "markdown",
      "metadata": {
        "id": "uSo-5FDLgNdR"
      },
      "source": [
        "***Square Root & Standard Deviation***\r\n",
        "\r\n",
        "There are various mathematical functions that can be performed using python numpy. You can find the square root, standard deviation of the array. "
      ]
    },
    {
      "cell_type": "code",
      "metadata": {
        "colab": {
          "base_uri": "https://localhost:8080/"
        },
        "id": "O6igXAlTgQOx",
        "outputId": "cbd3f83a-1a19-44dc-fc39-c411576689f3"
      },
      "source": [
        "import numpy as np\r\n",
        "a=np.array([(1,2,3),(3,4,5,)])\r\n",
        "print(np.sqrt(a))\r\n",
        "print(np.std(a))"
      ],
      "execution_count": null,
      "outputs": [
        {
          "output_type": "stream",
          "text": [
            "[[1.         1.41421356 1.73205081]\n",
            " [1.73205081 2.         2.23606798]]\n",
            "1.2909944487358056\n"
          ],
          "name": "stdout"
        }
      ]
    },
    {
      "cell_type": "markdown",
      "metadata": {
        "id": "mb8gU8gOgdz5"
      },
      "source": [
        "***Addition Operation***\r\n",
        "\r\n",
        "You can perform more operations on numpy array i.e addition, subtraction,multiplication and division of the two matrices. "
      ]
    },
    {
      "cell_type": "code",
      "metadata": {
        "colab": {
          "base_uri": "https://localhost:8080/"
        },
        "id": "YzzxJ4izgisY",
        "outputId": "5578e543-f1c4-48d0-a71f-800367c57090"
      },
      "source": [
        "import numpy as np\r\n",
        "x= np.array([(1,2,3),(3,4,5)])\r\n",
        "y= np.array([(1,2,3),(3,4,5)])\r\n",
        "print(x+y)"
      ],
      "execution_count": null,
      "outputs": [
        {
          "output_type": "stream",
          "text": [
            "[[ 2  4  6]\n",
            " [ 6  8 10]]\n"
          ],
          "name": "stdout"
        }
      ]
    },
    {
      "cell_type": "code",
      "metadata": {
        "colab": {
          "base_uri": "https://localhost:8080/"
        },
        "id": "ynZPex17gzL0",
        "outputId": "236f23ea-baf1-453b-965a-cdfa26d60d71"
      },
      "source": [
        "import numpy as np\r\n",
        "x= np.array([(1,2,3),(3,4,5)])\r\n",
        "y= np.array([(1,2,3),(3,4,5)])\r\n",
        "print(x-y)\r\n",
        "print(x*y)\r\n",
        "print(x/y)"
      ],
      "execution_count": null,
      "outputs": [
        {
          "output_type": "stream",
          "text": [
            "[[0 0 0]\n",
            " [0 0 0]]\n",
            "[[ 1  4  9]\n",
            " [ 9 16 25]]\n",
            "[[1. 1. 1.]\n",
            " [1. 1. 1.]]\n"
          ],
          "name": "stdout"
        }
      ]
    },
    {
      "cell_type": "markdown",
      "metadata": {
        "id": "V-U1guqpg2oA"
      },
      "source": [
        "***Vertical & Horizontal Stacking***\r\n",
        "\r\n",
        "If you want to concatenate two arrays and not just add them, you can perform it using two ways – vertical stacking and horizontal stacking. "
      ]
    },
    {
      "cell_type": "code",
      "metadata": {
        "colab": {
          "base_uri": "https://localhost:8080/"
        },
        "id": "pIIuc7v7hEs8",
        "outputId": "7a840d49-75f8-4aa9-b2b0-fc35dd2e287b"
      },
      "source": [
        "import numpy as np\r\n",
        "x= np.array([(1,2,3),(3,4,5)])\r\n",
        "y= np.array([(1,2,3),(3,4,5)])\r\n",
        "print(np.vstack((x,y)))\r\n",
        "print(np.hstack((x,y)))"
      ],
      "execution_count": null,
      "outputs": [
        {
          "output_type": "stream",
          "text": [
            "[[1 2 3]\n",
            " [3 4 5]\n",
            " [1 2 3]\n",
            " [3 4 5]]\n",
            "[[1 2 3 1 2 3]\n",
            " [3 4 5 3 4 5]]\n"
          ],
          "name": "stdout"
        }
      ]
    },
    {
      "cell_type": "markdown",
      "metadata": {
        "id": "p4Ldjg3JhKq6"
      },
      "source": [
        "***ravel***\r\n",
        "\r\n",
        "There is one more operation where you can convert one numpy array into a single column i.e ravel."
      ]
    },
    {
      "cell_type": "code",
      "metadata": {
        "colab": {
          "base_uri": "https://localhost:8080/"
        },
        "id": "mtm2-qHyhO5x",
        "outputId": "bbaad03d-2257-4e8e-c7bf-57e1318fc87b"
      },
      "source": [
        "import numpy as np\r\n",
        "x= np.array([(1,2,3),(3,4,5)])\r\n",
        "print(x.ravel())"
      ],
      "execution_count": null,
      "outputs": [
        {
          "output_type": "stream",
          "text": [
            "[1 2 3 3 4 5]\n"
          ],
          "name": "stdout"
        }
      ]
    }
  ]
}