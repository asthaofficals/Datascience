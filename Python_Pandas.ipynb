{
  "nbformat": 4,
  "nbformat_minor": 0,
  "metadata": {
    "colab": {
      "name": "Python Pandas",
      "provenance": [],
      "collapsed_sections": [],
      "authorship_tag": "ABX9TyP8GNyd2cMVysG9OK77f7/h",
      "include_colab_link": true
    },
    "kernelspec": {
      "name": "python3",
      "display_name": "Python 3"
    }
  },
  "cells": [
    {
      "cell_type": "markdown",
      "metadata": {
        "id": "view-in-github",
        "colab_type": "text"
      },
      "source": [
        "<a href=\"https://colab.research.google.com/github/asthaofficals/Datascience/blob/main/Python_Pandas.ipynb\" target=\"_parent\"><img src=\"https://colab.research.google.com/assets/colab-badge.svg\" alt=\"Open In Colab\"/></a>"
      ]
    },
    {
      "cell_type": "markdown",
      "metadata": {
        "id": "bC1rFvIKkhYE"
      },
      "source": [
        "***What is Python Pandas?***\r\n",
        "\r\n",
        "**Pandas is used for data manipulation, analysis and cleaning. Python pandas is well suited for different kinds of data, such as:** \r\n",
        "\r\n",
        "1. Tabular data with heterogeneously-typed columns\r\n",
        "\r\n",
        "2. Ordered and unordered time series data\r\n",
        "\r\n",
        "3. Arbitrary matrix data with row & column labels\r\n",
        "\r\n",
        "4. Unlabelled data\r\n",
        "\r\n",
        "5. Any other form of observational or statistical data sets\r\n",
        "\r\n",
        "\r\n"
      ]
    },
    {
      "cell_type": "code",
      "metadata": {
        "colab": {
          "base_uri": "https://localhost:8080/"
        },
        "id": "mEQVkMDtl2Ju",
        "outputId": "a6604dd6-7812-4d8b-a698-80874e48b5d5"
      },
      "source": [
        "#How to install Pandas?\r\n",
        "!pip install pandas"
      ],
      "execution_count": null,
      "outputs": [
        {
          "output_type": "stream",
          "text": [
            "Requirement already satisfied: pandas in /usr/local/lib/python3.6/dist-packages (1.1.5)\n",
            "Requirement already satisfied: python-dateutil>=2.7.3 in /usr/local/lib/python3.6/dist-packages (from pandas) (2.8.1)\n",
            "Requirement already satisfied: numpy>=1.15.4 in /usr/local/lib/python3.6/dist-packages (from pandas) (1.19.5)\n",
            "Requirement already satisfied: pytz>=2017.2 in /usr/local/lib/python3.6/dist-packages (from pandas) (2018.9)\n",
            "Requirement already satisfied: six>=1.5 in /usr/local/lib/python3.6/dist-packages (from python-dateutil>=2.7.3->pandas) (1.15.0)\n"
          ],
          "name": "stdout"
        }
      ]
    },
    {
      "cell_type": "markdown",
      "metadata": {
        "id": "Ax0flu4zmtN2"
      },
      "source": [
        "***Python Pandas Operations***\r\n",
        "\r\n",
        "Using Python pandas, you can perform a lot of operations with series, data frames, missing data, group by etc. \r\n",
        "\r\n",
        "***Slicing the Data Frame***\r\n",
        "\r\n",
        "In order to perform slicing on data, you need a data frame. Don’t worry, data frame is a 2-dimensional data structure and a most common pandas object."
      ]
    },
    {
      "cell_type": "code",
      "metadata": {
        "colab": {
          "base_uri": "https://localhost:8080/"
        },
        "id": "pIKGmc3VnK7n",
        "outputId": "2210a8b1-1fcf-495a-e4ee-3e8159c24673"
      },
      "source": [
        "import pandas as pd\r\n",
        " \r\n",
        "XYZ_web= {'Day':[1,2,3,4,5,6], \"Visitors\":[1000, 700,6000,1000,400,350], \"Bounce_Rate\":[20,20, 23,15,10,34]}\r\n",
        " \r\n",
        "df= pd.DataFrame(XYZ_web)\r\n",
        " \r\n",
        "print(df)"
      ],
      "execution_count": null,
      "outputs": [
        {
          "output_type": "stream",
          "text": [
            "   Day  Visitors  Bounce_Rate\n",
            "0    1      1000           20\n",
            "1    2       700           20\n",
            "2    3      6000           23\n",
            "3    4      1000           15\n",
            "4    5       400           10\n",
            "5    6       350           34\n"
          ],
          "name": "stdout"
        }
      ]
    },
    {
      "cell_type": "markdown",
      "metadata": {
        "id": "piWmjtvrnu5d"
      },
      "source": [
        "***Merging & Joining***\r\n",
        "\r\n",
        "In merging, you can merge two data frames to form a single data frame. You can also decide which columns you want to make common. Let me implement that practically, first I will create three data frames, which has some key-value pairs and then merge the data frames together."
      ]
    },
    {
      "cell_type": "code",
      "metadata": {
        "colab": {
          "base_uri": "https://localhost:8080/"
        },
        "id": "Q-3L6fTaoGkA",
        "outputId": "93486f42-bdd4-48fb-e47e-879a43d6946f"
      },
      "source": [
        "df1 = pd.DataFrame({\"HPI\":[80,90,70,60],\"Int_Rate\":[2,1,2,3], \"IND_GDP\":[50,45,45,67]}, index=[2001, 2002,2003,2004])\r\n",
        " \r\n",
        "df2 = pd.DataFrame({\"HPI\":[80,90,70,60],\"Int_Rate\":[2,1,2,3],\"IND_GDP\":[50,45,45,67]}, index=[2005, 2006,2007,2008])\r\n",
        " \r\n",
        "merged= pd.merge(df1,df2,on =\"HPI\")\r\n",
        " \r\n",
        "print(merged)"
      ],
      "execution_count": null,
      "outputs": [
        {
          "output_type": "stream",
          "text": [
            "   HPI  Int_Rate_x  IND_GDP_x  Int_Rate_y  IND_GDP_y\n",
            "0   80           2         50           2         50\n",
            "1   90           1         45           1         45\n",
            "2   70           2         45           2         45\n",
            "3   60           3         67           3         67\n"
          ],
          "name": "stdout"
        }
      ]
    },
    {
      "cell_type": "code",
      "metadata": {
        "colab": {
          "base_uri": "https://localhost:8080/"
        },
        "id": "lwGqNXG9ojX1",
        "outputId": "a0caab9e-16c0-4923-ffc1-74367cd51820"
      },
      "source": [
        "import pandas as pd\r\n",
        " \r\n",
        "df1= pd.DataFrame({ \"HPI\":[80,90,70,60],\"Int_Rate\":[2,1,2,3],\"IND_GDP\":[50,45,45,67]}, index=[2001, 2002,2003,2004])\r\n",
        " \r\n",
        "df2=pd.DataFrame({ \"HPI\":[80,90,70,60],\"Int_Rate\":[2,1,2,3],\"IND_GDP\":[50,45,45,67]}, index=[2005, 2006,2007,2008])\r\n",
        " \r\n",
        "merged= pd.merge(df1,df2)\r\n",
        " \r\n",
        "print(merged)"
      ],
      "execution_count": null,
      "outputs": [
        {
          "output_type": "stream",
          "text": [
            "   HPI  Int_Rate  IND_GDP\n",
            "0   80         2       50\n",
            "1   90         1       45\n",
            "2   70         2       45\n",
            "3   60         3       67\n"
          ],
          "name": "stdout"
        }
      ]
    },
    {
      "cell_type": "code",
      "metadata": {
        "colab": {
          "base_uri": "https://localhost:8080/"
        },
        "id": "DGAJGvzVquZH",
        "outputId": "1188eb1e-cc0b-4df5-9d6e-dab8362db192"
      },
      "source": [
        "df1 = pd.DataFrame({\"Int_Rate\":[2,1,2,3], \"IND_GDP\":[50,45,45,67]}, index=[2001, 2002,2003,2004])\r\n",
        " \r\n",
        "df2 = pd.DataFrame({\"Low_Tier_HPI\":[50,45,67,34],\"Unemployment\":[1,3,5,6]}, index=[2001, 2003,2004,2004])\r\n",
        " \r\n",
        "joined= df1.join(df2)\r\n",
        "print(joined)"
      ],
      "execution_count": null,
      "outputs": [
        {
          "output_type": "stream",
          "text": [
            "      Int_Rate  IND_GDP  Low_Tier_HPI  Unemployment\n",
            "2001         2       50          50.0           1.0\n",
            "2002         1       45           NaN           NaN\n",
            "2003         2       45          45.0           3.0\n",
            "2004         3       67          67.0           5.0\n",
            "2004         3       67          34.0           6.0\n"
          ],
          "name": "stdout"
        }
      ]
    },
    {
      "cell_type": "markdown",
      "metadata": {
        "id": "FxJcac92q1Y_"
      },
      "source": [
        "**Concatenation** \r\n",
        "\r\n",
        "Concatenation basically glues the dataframes together. You can select the dimension on which you want to concatenate. For that, just use “pd.concat” and pass in the list of dataframes to concatenate together. "
      ]
    },
    {
      "cell_type": "code",
      "metadata": {
        "colab": {
          "base_uri": "https://localhost:8080/"
        },
        "id": "ss16-4vXq_9M",
        "outputId": "2eec7153-b275-4ee3-a478-adf7a2b68ea2"
      },
      "source": [
        "df1 = pd.DataFrame({\"HPI\":[80,90,70,60],\"Int_Rate\":[2,1,2,3], \"IND_GDP\":[50,45,45,67]}, index=[2001, 2002,2003,2004])\r\n",
        " \r\n",
        "df2 = pd.DataFrame({\"HPI\":[80,90,70,60],\"Int_Rate\":[2,1,2,3],\"IND_GDP\":[50,45,45,67]}, index=[2005, 2006,2007,2008])\r\n",
        " \r\n",
        "concat= pd.concat([df1,df2])\r\n",
        " \r\n",
        "print(concat)"
      ],
      "execution_count": null,
      "outputs": [
        {
          "output_type": "stream",
          "text": [
            "      HPI  Int_Rate  IND_GDP\n",
            "2001   80         2       50\n",
            "2002   90         1       45\n",
            "2003   70         2       45\n",
            "2004   60         3       67\n",
            "2005   80         2       50\n",
            "2006   90         1       45\n",
            "2007   70         2       45\n",
            "2008   60         3       67\n"
          ],
          "name": "stdout"
        }
      ]
    },
    {
      "cell_type": "code",
      "metadata": {
        "colab": {
          "base_uri": "https://localhost:8080/"
        },
        "id": "Na4MTriKrxXm",
        "outputId": "ab774dc0-38cb-4c19-fc1a-8c42c57fbe5d"
      },
      "source": [
        "df1 = pd.DataFrame({\"HPI\":[80,90,70,60],\"Int_Rate\":[2,1,2,3], \"IND_GDP\":[50,45,45,67]}, index=[2001, 2002,2003,2004])\r\n",
        " \r\n",
        "df2 = pd.DataFrame({\"HPI\":[80,90,70,60],\"Int_Rate\":[2,1,2,3],\"IND_GDP\":[50,45,45,67]}, index=[2005, 2006,2007,2008])\r\n",
        " \r\n",
        "concat= pd.concat([df1,df2],axis=1)\r\n",
        " \r\n",
        "print(concat)"
      ],
      "execution_count": null,
      "outputs": [
        {
          "output_type": "stream",
          "text": [
            "       HPI  Int_Rate  IND_GDP   HPI  Int_Rate  IND_GDP\n",
            "2001  80.0       2.0     50.0   NaN       NaN      NaN\n",
            "2002  90.0       1.0     45.0   NaN       NaN      NaN\n",
            "2003  70.0       2.0     45.0   NaN       NaN      NaN\n",
            "2004  60.0       3.0     67.0   NaN       NaN      NaN\n",
            "2005   NaN       NaN      NaN  80.0       2.0     50.0\n",
            "2006   NaN       NaN      NaN  90.0       1.0     45.0\n",
            "2007   NaN       NaN      NaN  70.0       2.0     45.0\n",
            "2008   NaN       NaN      NaN  60.0       3.0     67.0\n"
          ],
          "name": "stdout"
        }
      ]
    },
    {
      "cell_type": "markdown",
      "metadata": {
        "id": "3L2XPnx7t8Ya"
      },
      "source": [
        "***Change the index***\r\n",
        "\r\n",
        "Next in python pandas tutorial, we’ll understand how to change the index values in a dataframe. For example, let us create a dataframe with some key value pairs in a dictionary and change the index values. "
      ]
    },
    {
      "cell_type": "code",
      "metadata": {
        "colab": {
          "base_uri": "https://localhost:8080/"
        },
        "id": "rnl_x7YouOxy",
        "outputId": "062f2916-4cdd-418b-da07-ca1410504b8d"
      },
      "source": [
        "import pandas as pd\r\n",
        " \r\n",
        "df= pd.DataFrame({\"Day\":[1,2,3,4], \"Visitors\":[200, 100,230,300], \"Bounce_Rate\":[20,45,60,10]}) \r\n",
        " \r\n",
        "df.set_index(\"Day\", inplace= True)\r\n",
        " \r\n",
        "print(df)"
      ],
      "execution_count": null,
      "outputs": [
        {
          "output_type": "stream",
          "text": [
            "     Visitors  Bounce_Rate\n",
            "Day                       \n",
            "1         200           20\n",
            "2         100           45\n",
            "3         230           60\n",
            "4         300           10\n"
          ],
          "name": "stdout"
        }
      ]
    },
    {
      "cell_type": "markdown",
      "metadata": {
        "id": "1UsbE3KuuXr6"
      },
      "source": [
        "***Change the Column Headers***\r\n",
        "\r\n",
        "Let us now change the headers of column in this python pandas tutorial. Let us take the same example, where I will change the column header from “Visitors” to “Users”. So, let me implement it practically."
      ]
    },
    {
      "cell_type": "code",
      "metadata": {
        "colab": {
          "base_uri": "https://localhost:8080/"
        },
        "id": "UAOXCMdlua-a",
        "outputId": "279afbc3-0cac-4105-ee1f-d3620103e268"
      },
      "source": [
        "import pandas as pd\r\n",
        " \r\n",
        "df = pd.DataFrame({\"Day\":[1,2,3,4], \"Visitors\":[200, 100,230,300], \"Bounce_Rate\":[20,45,60,10]})\r\n",
        " \r\n",
        "df = df.rename(columns={\"Visitors\":\"Users\"})\r\n",
        " \r\n",
        "print(df)"
      ],
      "execution_count": null,
      "outputs": [
        {
          "output_type": "stream",
          "text": [
            "   Day  Users  Bounce_Rate\n",
            "0    1    200           20\n",
            "1    2    100           45\n",
            "2    3    230           60\n",
            "3    4    300           10\n"
          ],
          "name": "stdout"
        }
      ]
    }
  ]
}